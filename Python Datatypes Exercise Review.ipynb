{
 "cells": [
  {
   "cell_type": "markdown",
   "id": "82182148",
   "metadata": {},
   "source": [
    "## #1\n",
    "#### You have rented some movies for your kids: The little mermaid (for 3 days), Brother Bear (for 5 days, they love it), and Hercules (1 day, you don't know yet if they're going to like it). If price for a movie per day is 3 dollars, how much will you have to pay?"
   ]
  },
  {
   "cell_type": "code",
   "execution_count": null,
   "id": "bacae32f",
   "metadata": {},
   "outputs": [],
   "source": [
    "little_mermaid = 3"
   ]
  },
  {
   "cell_type": "code",
   "execution_count": 12,
   "id": "faf18bff",
   "metadata": {},
   "outputs": [],
   "source": [
    "brother_bear = 5"
   ]
  },
  {
   "cell_type": "code",
   "execution_count": 13,
   "id": "6cd117b9",
   "metadata": {},
   "outputs": [],
   "source": [
    "hercules = 1"
   ]
  },
  {
   "cell_type": "code",
   "execution_count": 14,
   "id": "27ca1288",
   "metadata": {},
   "outputs": [],
   "source": [
    "price_per_day = 3"
   ]
  },
  {
   "cell_type": "code",
   "execution_count": 15,
   "id": "768f93f2",
   "metadata": {},
   "outputs": [],
   "source": [
    "price_total = price_per_day *(little_mermaid + brother_bear + hercules)"
   ]
  },
  {
   "cell_type": "code",
   "execution_count": 16,
   "id": "f1ae78e8",
   "metadata": {},
   "outputs": [
    {
     "name": "stdout",
     "output_type": "stream",
     "text": [
      "27\n"
     ]
    }
   ],
   "source": [
    "print(price_total)"
   ]
  },
  {
   "cell_type": "markdown",
   "id": "dc2f38f9",
   "metadata": {},
   "source": [
    "## #2\n",
    "#### Suppose you're working as a contractor for 3 companies: Google, Amazon and Facebook, they pay you a different rate per hour. Google pays 400 dollars per hour, Amazon 380, and Facebook 350. How much will you receive in payment for this week? You worked 10 hours for Facebook, 6 hours for Google and 4 hours for Amazon."
   ]
  },
  {
   "cell_type": "code",
   "execution_count": 1,
   "id": "9ce0826e",
   "metadata": {},
   "outputs": [],
   "source": [
    "Facebook_pay = 350"
   ]
  },
  {
   "cell_type": "code",
   "execution_count": 2,
   "id": "57c1bae4",
   "metadata": {},
   "outputs": [],
   "source": [
    "Facebook_hrs = 10"
   ]
  },
  {
   "cell_type": "code",
   "execution_count": 3,
   "id": "2d5be538",
   "metadata": {},
   "outputs": [],
   "source": [
    "Google_pay = 400"
   ]
  },
  {
   "cell_type": "code",
   "execution_count": 4,
   "id": "04dcbbe7",
   "metadata": {},
   "outputs": [],
   "source": [
    "Google_hrs = 6"
   ]
  },
  {
   "cell_type": "code",
   "execution_count": 5,
   "id": "e1629fa2",
   "metadata": {},
   "outputs": [],
   "source": [
    "Amazon_pay= 380"
   ]
  },
  {
   "cell_type": "code",
   "execution_count": 6,
   "id": "c85cdabb",
   "metadata": {},
   "outputs": [],
   "source": [
    "Amazon_hrs = 4"
   ]
  },
  {
   "cell_type": "code",
   "execution_count": 7,
   "id": "6d8366fb",
   "metadata": {},
   "outputs": [],
   "source": [
    "weekly_pay = (Facebook_pay * Facebook_hrs) + (Google_pay * Google_hrs) + (Amazon_pay * Amazon_hrs)"
   ]
  },
  {
   "cell_type": "code",
   "execution_count": 8,
   "id": "90999b43",
   "metadata": {},
   "outputs": [
    {
     "data": {
      "text/plain": [
       "7420"
      ]
     },
     "execution_count": 8,
     "metadata": {},
     "output_type": "execute_result"
    }
   ],
   "source": [
    "weekly_pay"
   ]
  },
  {
   "cell_type": "markdown",
   "id": "9fe814e2",
   "metadata": {},
   "source": [
    "## #3\n",
    "#### A student can be enrolled to a class only if the class is not full and the class schedule does not conflict with her current schedule."
   ]
  },
  {
   "cell_type": "code",
   "execution_count": 9,
   "id": "e05475ce",
   "metadata": {},
   "outputs": [
    {
     "data": {
      "text/plain": [
       "True"
      ]
     },
     "execution_count": 9,
     "metadata": {},
     "output_type": "execute_result"
    }
   ],
   "source": [
    "class_is_not_full = True\n",
    "schedule_does_not_conflict = True\n",
    "enroll = class_is_not_full and schedule_does_not_conflict\n",
    "enroll"
   ]
  },
  {
   "cell_type": "code",
   "execution_count": 10,
   "id": "f3804e64",
   "metadata": {},
   "outputs": [
    {
     "data": {
      "text/plain": [
       "True"
      ]
     },
     "execution_count": 10,
     "metadata": {},
     "output_type": "execute_result"
    }
   ],
   "source": [
    "class_is_full = False\n",
    "schedule_conflict = False\n",
    "enrollable_status = not (class_is_full or schedule_conflict)\n",
    "\n",
    "enrollable_status"
   ]
  },
  {
   "cell_type": "markdown",
   "id": "f0a9af8e",
   "metadata": {},
   "source": [
    "## #4\n",
    "#### A product offer can be applied only if people buys more than 2 items, and the offer has not expired. Premium members do not need to buy a specific amount of products."
   ]
  },
  {
   "cell_type": "code",
   "execution_count": 11,
   "id": "71e3bed9",
   "metadata": {},
   "outputs": [
    {
     "data": {
      "text/plain": [
       "True"
      ]
     },
     "execution_count": 11,
     "metadata": {},
     "output_type": "execute_result"
    }
   ],
   "source": [
    "purchase_more_than_two = True\n",
    "product_not_expired = True\n",
    "premium_membership = False\n",
    "discount_eligability = product_not_expired and (purchase_more_than_two or premium_membership)\n",
    "\n",
    "discount_eligability"
   ]
  },
  {
   "cell_type": "code",
   "execution_count": 12,
   "id": "a0267343",
   "metadata": {},
   "outputs": [],
   "source": [
    "premium_member = True\n",
    "more_than_two_items = False\n",
    "coupon_not_expired = True"
   ]
  },
  {
   "cell_type": "code",
   "execution_count": 13,
   "id": "9abcda2e",
   "metadata": {},
   "outputs": [
    {
     "data": {
      "text/plain": [
       "True"
      ]
     },
     "execution_count": 13,
     "metadata": {},
     "output_type": "execute_result"
    }
   ],
   "source": [
    "coupon_not_expired and (more_than_two_items or premium_member)"
   ]
  },
  {
   "cell_type": "markdown",
   "id": "a20fe881",
   "metadata": {},
   "source": [
    "## #5\n",
    "#### username = 'codeup'\n",
    "#### password = 'notastrongpassword'\n",
    "#### Create a variable that holds a boolean value for each of the following conditions:\n",
    "\n",
    "\n",
    "#### the password must be at least 5 characters\n",
    "#### the username must be no more than 20 characters\n",
    "### the password must not be the same as the username\n",
    "#### *bonus neither the username or password can start or end with whitespace"
   ]
  },
  {
   "cell_type": "code",
   "execution_count": 21,
   "id": "730209c1",
   "metadata": {},
   "outputs": [
    {
     "data": {
      "text/plain": [
       "True"
      ]
     },
     "execution_count": 21,
     "metadata": {},
     "output_type": "execute_result"
    }
   ],
   "source": [
    "username = 'codeup'\n",
    "password = 'notastrongpassword'\n",
    "\n",
    "\n",
    "#1- the password must be at least 5 characters\n",
    "password_length = len(password) >= 5 \n",
    "#2- the username must be no more than 20 characters\n",
    "username_length = len(username) <= 20\n",
    "#3- the password must not be the same as the username\n",
    "qualification = password != username\n",
    "\n",
    "user_and_password_valid = password_length and username_length and qualification\n",
    "user_and_password_valid"
   ]
  },
  {
   "cell_type": "code",
   "execution_count": 15,
   "id": "2acbeb4b",
   "metadata": {},
   "outputs": [],
   "source": [
    "my_username = 'Queenofthejungle'\n",
    "my_password = 'Tashaisthebest'"
   ]
  },
  {
   "cell_type": "code",
   "execution_count": 16,
   "id": "1fe7bc3f",
   "metadata": {},
   "outputs": [
    {
     "data": {
      "text/plain": [
       "True"
      ]
     },
     "execution_count": 16,
     "metadata": {},
     "output_type": "execute_result"
    }
   ],
   "source": [
    "Check_1 = len(my_password) > 4\n",
    "Check_1"
   ]
  },
  {
   "cell_type": "code",
   "execution_count": 17,
   "id": "c4a9d5f1",
   "metadata": {},
   "outputs": [
    {
     "data": {
      "text/plain": [
       "True"
      ]
     },
     "execution_count": 17,
     "metadata": {},
     "output_type": "execute_result"
    }
   ],
   "source": [
    "Check_2 = len(my_username) <= 20\n",
    "Check_2"
   ]
  },
  {
   "cell_type": "code",
   "execution_count": 18,
   "id": "50c4dc25",
   "metadata": {},
   "outputs": [
    {
     "data": {
      "text/plain": [
       "True"
      ]
     },
     "execution_count": 18,
     "metadata": {},
     "output_type": "execute_result"
    }
   ],
   "source": [
    "Check_3 = my_username != my_password\n",
    "Check_3"
   ]
  },
  {
   "cell_type": "code",
   "execution_count": 19,
   "id": "a6cf465a",
   "metadata": {},
   "outputs": [],
   "source": [
    "#### *bonus neither the username or password can start or end with whitespace\n",
    "\n",
    "no_white_space_username = not (username.startswith(' ') or username [-1] == ' ')\n",
    "no_white_space_password = not (password.startswith(' ') or password [-1] == ' ')\n",
    "user_and_password_valid = password_length and user_name_length and qualification and no_white_space_username and no_white_space_password "
   ]
  },
  {
   "cell_type": "code",
   "execution_count": 20,
   "id": "84843269",
   "metadata": {},
   "outputs": [
    {
     "data": {
      "text/plain": [
       "True"
      ]
     },
     "execution_count": 20,
     "metadata": {},
     "output_type": "execute_result"
    }
   ],
   "source": [
    "user_and_password_valid"
   ]
  },
  {
   "cell_type": "code",
   "execution_count": null,
   "id": "6c5419e4",
   "metadata": {},
   "outputs": [],
   "source": []
  }
 ],
 "metadata": {
  "kernelspec": {
   "display_name": "Python 3 (ipykernel)",
   "language": "python",
   "name": "python3"
  },
  "language_info": {
   "codemirror_mode": {
    "name": "ipython",
    "version": 3
   },
   "file_extension": ".py",
   "mimetype": "text/x-python",
   "name": "python",
   "nbconvert_exporter": "python",
   "pygments_lexer": "ipython3",
   "version": "3.9.13"
  }
 },
 "nbformat": 4,
 "nbformat_minor": 5
}
