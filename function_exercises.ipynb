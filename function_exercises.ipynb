{
 "cells": [
  {
   "cell_type": "markdown",
   "id": "ea829cd6",
   "metadata": {},
   "source": [
    "### #1. Define a function named is_two. It should accept one input and return True if the passed input is either the number or the string 2, False otherwise."
   ]
  },
  {
   "cell_type": "markdown",
   "id": "d241a78a",
   "metadata": {},
   "source": [
    "## Exercises\n",
    "Create a file named function_exercises.py for this exercise. After creating each function specified below, write the necessary code in order to test your function.\n",
    "\n",
    "1. Define a function named is_two. It should accept one input and return True if the passed input is either the number or the string 2, False otherwise.\n",
    "2. Define a function named is_vowel. It should return True if the passed string is a vowel, False otherwise.\n",
    "3. Define a function named is_consonant. It should return True if the passed string is a consonant, False otherwise. Use your is_vowel function to accomplish this.\n",
    "5. Define a function that accepts a string that is a word. The function should capitalize the first letter of the word if the word starts with a consonant.\n",
    "6. Define a function named calculate_tip. It should accept a tip percentage (a number between 0 and 1) and the bill total, and return the amount to tip.\n",
    "7. Define a function named apply_discount. It should accept a original price, and a discount percentage, and return the price after the discount is applied.\n",
    "8. Define a function named handle_commas. It should accept a string that is a number that contains commas in it as input, and return a number as output.\n",
    "9. Define a function named get_letter_grade. It should accept a number and return the letter grade associated with that number (A-F).\n",
    "10. Define a function named remove_vowels that accepts a string and returns a string with all the vowels removed.\n",
    "Define a function named normalize_name. It should accept a string and return a valid python identifier, that is:\n",
    "- anything that is not a valid python identifier should be removed\n",
    "- leading and trailing whitespace should be removed\n",
    "- everything should be lowercase\n",
    "- spaces should be replaced with underscores\n",
    "- for example:\n",
    "    - Name will become name\n",
    "    - First Name will become first_name\n",
    "    - % Completed will become completed\n",
    "11. Write a function named cumulative_sum that accepts a list of numbers and returns a list that is the cumulative sum of the numbers in the list.\n",
    "- cumulative_sum([1, 1, 1]) returns [1, 2, 3]\n",
    "- cumulative_sum([1, 2, 3, 4]) returns [1, 3, 6, 10]"
   ]
  },
  {
   "cell_type": "code",
   "execution_count": 1,
   "id": "5e01c3a1",
   "metadata": {},
   "outputs": [],
   "source": [
    "def is_two(number):\n",
    "    \"\"\"\n",
    "    return True to a input if it's 2 number or 2 string\n",
    "    return False is any other number or string\n",
    "    \"\"\"\n",
    "    if number == 2:\n",
    "        return True\n",
    "    if number == '2':\n",
    "        return True\n",
    "    else:\n",
    "        return False   "
   ]
  },
  {
   "cell_type": "code",
   "execution_count": 2,
   "id": "039474a7",
   "metadata": {},
   "outputs": [
    {
     "data": {
      "text/plain": [
       "True"
      ]
     },
     "execution_count": 2,
     "metadata": {},
     "output_type": "execute_result"
    }
   ],
   "source": [
    "#See if it works\n",
    "is_two(2)"
   ]
  },
  {
   "cell_type": "code",
   "execution_count": 3,
   "id": "e54bd8d6",
   "metadata": {},
   "outputs": [
    {
     "data": {
      "text/plain": [
       "True"
      ]
     },
     "execution_count": 3,
     "metadata": {},
     "output_type": "execute_result"
    }
   ],
   "source": [
    "#put string 2 in\n",
    "is_two('2')"
   ]
  },
  {
   "cell_type": "code",
   "execution_count": 4,
   "id": "73bb0ed4",
   "metadata": {},
   "outputs": [
    {
     "data": {
      "text/plain": [
       "False"
      ]
     },
     "execution_count": 4,
     "metadata": {},
     "output_type": "execute_result"
    }
   ],
   "source": [
    "#try to get a false result\n",
    "is_two(3)"
   ]
  },
  {
   "cell_type": "code",
   "execution_count": 5,
   "id": "33609194",
   "metadata": {},
   "outputs": [],
   "source": [
    "#another way to accomplish the same thing\n",
    "def is_two_alt(n):\n",
    "    return n == 2 or n == '2'"
   ]
  },
  {
   "cell_type": "code",
   "execution_count": 6,
   "id": "e1264072",
   "metadata": {},
   "outputs": [
    {
     "data": {
      "text/plain": [
       "True"
      ]
     },
     "execution_count": 6,
     "metadata": {},
     "output_type": "execute_result"
    }
   ],
   "source": [
    "#lets check it out\n",
    "is_two_alt(2)"
   ]
  },
  {
   "cell_type": "code",
   "execution_count": 7,
   "id": "8f5b8228",
   "metadata": {},
   "outputs": [
    {
     "data": {
      "text/plain": [
       "True"
      ]
     },
     "execution_count": 7,
     "metadata": {},
     "output_type": "execute_result"
    }
   ],
   "source": [
    "#lets check it out\n",
    "is_two_alt('2')"
   ]
  },
  {
   "cell_type": "code",
   "execution_count": 8,
   "id": "7761f3f2",
   "metadata": {},
   "outputs": [
    {
     "data": {
      "text/plain": [
       "False"
      ]
     },
     "execution_count": 8,
     "metadata": {},
     "output_type": "execute_result"
    }
   ],
   "source": [
    "#lets check it out\n",
    "is_two_alt(3)"
   ]
  },
  {
   "cell_type": "markdown",
   "id": "779c601a",
   "metadata": {},
   "source": [
    "### #2. Define a function named is_vowel. It should return True if the passed string is a vowel, False otherwise."
   ]
  },
  {
   "cell_type": "code",
   "execution_count": 9,
   "id": "bd5b9fb1",
   "metadata": {},
   "outputs": [],
   "source": [
    "def is_vowel(vowelstring):\n",
    "    \"\"\"\n",
    "    return True if input is upper or lowercase vowel\n",
    "    return False if input is consonant\n",
    "    \"\"\"\n",
    "    if vowelstring == ('a' or 'e' or 'i' or 'o' or 'u'):\n",
    "        return True\n",
    "    if vowelstring == ('A' or 'E' or 'I' or 'O' or 'U'):\n",
    "        return True\n",
    "    else:\n",
    "        return False"
   ]
  },
  {
   "cell_type": "code",
   "execution_count": 10,
   "id": "4c1e94d7",
   "metadata": {},
   "outputs": [
    {
     "data": {
      "text/plain": [
       "True"
      ]
     },
     "execution_count": 10,
     "metadata": {},
     "output_type": "execute_result"
    }
   ],
   "source": [
    "#see if our function works\n",
    "is_vowel('a')"
   ]
  },
  {
   "cell_type": "code",
   "execution_count": 11,
   "id": "57f63492",
   "metadata": {},
   "outputs": [
    {
     "data": {
      "text/plain": [
       "False"
      ]
     },
     "execution_count": 11,
     "metadata": {},
     "output_type": "execute_result"
    }
   ],
   "source": [
    "#would a consenent work?\n",
    "is_vowel('b')"
   ]
  },
  {
   "cell_type": "code",
   "execution_count": 12,
   "id": "e618ef39",
   "metadata": {},
   "outputs": [],
   "source": [
    "#another way to accomplish the same thing\n",
    "def is_vowel_alt(string):\n",
    "    return len(string) == 1 and string.lower() in 'aeiou'"
   ]
  },
  {
   "cell_type": "code",
   "execution_count": 13,
   "id": "94d39201",
   "metadata": {},
   "outputs": [
    {
     "data": {
      "text/plain": [
       "True"
      ]
     },
     "execution_count": 13,
     "metadata": {},
     "output_type": "execute_result"
    }
   ],
   "source": [
    "#test out of function\n",
    "is_vowel_alt('a')"
   ]
  },
  {
   "cell_type": "code",
   "execution_count": 14,
   "id": "47d0b8f0",
   "metadata": {},
   "outputs": [
    {
     "data": {
      "text/plain": [
       "True"
      ]
     },
     "execution_count": 14,
     "metadata": {},
     "output_type": "execute_result"
    }
   ],
   "source": [
    "#test out of function on uppercase vowel\n",
    "is_vowel_alt('A')"
   ]
  },
  {
   "cell_type": "code",
   "execution_count": 15,
   "id": "34356966",
   "metadata": {},
   "outputs": [
    {
     "data": {
      "text/plain": [
       "False"
      ]
     },
     "execution_count": 15,
     "metadata": {},
     "output_type": "execute_result"
    }
   ],
   "source": [
    "#test out of function on a consonent\n",
    "is_vowel_alt('b')"
   ]
  },
  {
   "cell_type": "markdown",
   "id": "414de357",
   "metadata": {},
   "source": [
    "### #3. Define a function named is_consonant. It should return True if the passed string is a consonant, False otherwise. Use your is_vowel function to accomplish this."
   ]
  },
  {
   "cell_type": "code",
   "execution_count": 16,
   "id": "f634088d",
   "metadata": {},
   "outputs": [],
   "source": [
    "def is_consonant(constrng):\n",
    "    \"\"\"\n",
    "    This function takes in a string\n",
    "    and return true if string is a consonant or False if string is a vowel\n",
    "    \"\"\"\n",
    "    if constrng in ('a' or 'e' or 'i' or 'o' or 'u'):\n",
    "        return False\n",
    "    if constrng in ('A' or 'E' or 'I' or 'O' or 'U'):\n",
    "        return False\n",
    "    else:\n",
    "        return True"
   ]
  },
  {
   "cell_type": "code",
   "execution_count": 17,
   "id": "f0069510",
   "metadata": {},
   "outputs": [
    {
     "data": {
      "text/plain": [
       "True"
      ]
     },
     "execution_count": 17,
     "metadata": {},
     "output_type": "execute_result"
    }
   ],
   "source": [
    "#test out our function\n",
    "is_consonant('j')"
   ]
  },
  {
   "cell_type": "code",
   "execution_count": 18,
   "id": "6a46c75c",
   "metadata": {},
   "outputs": [],
   "source": [
    "#for entire string\n",
    "def is_consonant(string):\n",
    "    '''\n",
    "    This function takes in a string\n",
    "    and returns True if the string is a consonant or False if string is a vowel\n",
    "    '''\n",
    "    if type(string) == str:\n",
    "        is_only_letters = string.isalpha()\n",
    "        return is_only_letters and not is_vowel(string)\n",
    "    else:\n",
    "        return False"
   ]
  },
  {
   "cell_type": "code",
   "execution_count": 19,
   "id": "eac80f97",
   "metadata": {},
   "outputs": [],
   "source": [
    "#using another function we created to make this function\n",
    "#what happens if \"is_vowel\" is not created yet??\n",
    "#we get a break\n",
    "\n",
    "def is_consonant3(string):\n",
    "    return len(string) == 1 and not is_vowel(string) and string.isalpha()"
   ]
  },
  {
   "cell_type": "code",
   "execution_count": 20,
   "id": "c6b6fc0b",
   "metadata": {},
   "outputs": [
    {
     "data": {
      "text/plain": [
       "False"
      ]
     },
     "execution_count": 20,
     "metadata": {},
     "output_type": "execute_result"
    }
   ],
   "source": [
    "#test it out\n",
    "is_consonant3('a')"
   ]
  },
  {
   "cell_type": "markdown",
   "id": "89bafa71",
   "metadata": {},
   "source": [
    "### #4. Define a function that accepts a string that is a word. The function should capitalize the first letter of the word if the word starts with a consonant."
   ]
  },
  {
   "cell_type": "code",
   "execution_count": 27,
   "id": "2757a691",
   "metadata": {},
   "outputs": [],
   "source": [
    "def cap_first_cons(string):\n",
    "    \"\"\"\n",
    "    This function takes in a string and\n",
    "    returns the first letter capitalizes if that string begins with a consonant \n",
    "    if the first letter is a vowel, it returns 'invalid'\n",
    "    \"\"\"\n",
    "    if string[0] in ('a' or 'e' or 'i' or 'o' or 'u'):\n",
    "        return (\"invalid\")\n",
    "    else:\n",
    "        return string.capitalize()"
   ]
  },
  {
   "cell_type": "code",
   "execution_count": 28,
   "id": "3c2f91d8",
   "metadata": {},
   "outputs": [
    {
     "data": {
      "text/plain": [
       "'Dog'"
      ]
     },
     "execution_count": 28,
     "metadata": {},
     "output_type": "execute_result"
    }
   ],
   "source": [
    "#test out the function\n",
    "cap_first_cons(\"dog\")"
   ]
  },
  {
   "cell_type": "code",
   "execution_count": 30,
   "id": "6187fadd",
   "metadata": {},
   "outputs": [
    {
     "data": {
      "text/plain": [
       "'invalid'"
      ]
     },
     "execution_count": 30,
     "metadata": {},
     "output_type": "execute_result"
    }
   ],
   "source": [
    "#will our function work if the word starts in a vowel?\n",
    "cap_first_cons(\"apple\")"
   ]
  },
  {
   "cell_type": "code",
   "execution_count": 25,
   "id": "4db57e67",
   "metadata": {},
   "outputs": [],
   "source": [
    "#Another way to accomplish this using \"is_consonant\" function we created above\n",
    "def capitalize_starting_consonant(string):\n",
    "    \"\"\"\n",
    "    This function takes in a string and\n",
    "    returns the first letter capitalizes if that string begins with a consonant \n",
    "    \"\"\"\n",
    "    first_letter = string[0]\n",
    "    if is_consonant(first_letter):\n",
    "        string = string.capitalize()\n",
    "    return string"
   ]
  },
  {
   "cell_type": "code",
   "execution_count": 26,
   "id": "b6799aef",
   "metadata": {},
   "outputs": [
    {
     "data": {
      "text/plain": [
       "'Dog'"
      ]
     },
     "execution_count": 26,
     "metadata": {},
     "output_type": "execute_result"
    }
   ],
   "source": [
    "#check out our function\n",
    "capitalize_starting_consonant('dog')"
   ]
  },
  {
   "cell_type": "code",
   "execution_count": 29,
   "id": "de7f20d2",
   "metadata": {},
   "outputs": [
    {
     "data": {
      "text/plain": [
       "'apple'"
      ]
     },
     "execution_count": 29,
     "metadata": {},
     "output_type": "execute_result"
    }
   ],
   "source": [
    "#starts with a vowel- should not capitalize\n",
    "capitalize_starting_consonant('apple')"
   ]
  },
  {
   "cell_type": "markdown",
   "id": "0163ecd7",
   "metadata": {},
   "source": [
    "### #5. Define a function named calculate_tip. It should accept a tip percentage (a number between 0 and 1) and the bill total, and return the amount to tip."
   ]
  },
  {
   "cell_type": "code",
   "execution_count": 43,
   "id": "7df33c8a",
   "metadata": {},
   "outputs": [],
   "source": [
    "def calculate_tip(bill =1, tip_percent=.20):\n",
    "    \"\"\"\n",
    "    This function takes in the bill and the tip percent\n",
    "    and returns what the tip should be\n",
    "    \"\"\"\n",
    "    return bill * tip_percent"
   ]
  },
  {
   "cell_type": "code",
   "execution_count": 44,
   "id": "e01920b3",
   "metadata": {},
   "outputs": [
    {
     "data": {
      "text/plain": [
       "20.0"
      ]
     },
     "execution_count": 44,
     "metadata": {},
     "output_type": "execute_result"
    }
   ],
   "source": [
    "#use function\n",
    "calculate_tip(100, .20)"
   ]
  },
  {
   "cell_type": "code",
   "execution_count": 61,
   "id": "4da1ccc2",
   "metadata": {},
   "outputs": [
    {
     "name": "stdout",
     "output_type": "stream",
     "text": [
      "enter total bill: 100\n",
      "enter tip percent: 10\n",
      "you should leave 10.0 as the tip\n"
     ]
    }
   ],
   "source": [
    "#more advanced way of doing it using inputs\n",
    "\n",
    "#enter total bill amount\n",
    "total_bill = int(input(\"enter total bill: \"))\n",
    "#enter tip percent\n",
    "tip_percentage = int(input(\"enter tip percent: \"))\n",
    "#calculate tip to be left\n",
    "leave_tip= total_bill / tip_percentage\n",
    "\n",
    "#print the tip you should leave\n",
    "print(f\"you should leave {leave_tip} as the tip\")"
   ]
  },
  {
   "cell_type": "markdown",
   "id": "140851e0",
   "metadata": {},
   "source": [
    "### #6. Define a function named apply_discount. It should accept a original price, and a discount percentage, and return the price after the discount is applied."
   ]
  },
  {
   "cell_type": "code",
   "execution_count": 62,
   "id": "f1be11a3",
   "metadata": {},
   "outputs": [],
   "source": [
    "def apply_discount(price, discount_percentage):\n",
    "    '''\n",
    "    This function takes in two arguments, price and discount percent\n",
    "    and returns the new price after the discount.\n",
    "    '''\n",
    "    discount = price * discount_percentage\n",
    "    return price - discount"
   ]
  },
  {
   "cell_type": "code",
   "execution_count": 64,
   "id": "9e61ef05",
   "metadata": {},
   "outputs": [
    {
     "data": {
      "text/plain": [
       "80.0"
      ]
     },
     "execution_count": 64,
     "metadata": {},
     "output_type": "execute_result"
    }
   ],
   "source": [
    "#check to see if the function works\n",
    "apply_discount(100, .20)"
   ]
  },
  {
   "cell_type": "markdown",
   "id": "c5f1915b",
   "metadata": {},
   "source": [
    "### #7. Define a function named handle_commas. It should accept a string that is a number that contains commas in it as input, and return a number as output."
   ]
  },
  {
   "cell_type": "code",
   "execution_count": 67,
   "id": "a502bebb",
   "metadata": {},
   "outputs": [],
   "source": [
    "def handle_commas(string):\n",
    "    '''\n",
    "    This function takes in a string and returns the string without commas\n",
    "    if the input is not a string, it will return input must be string.\n",
    "    '''\n",
    "    if type(string) != str:\n",
    "        return \"Input must be a string\"\n",
    "    \n",
    "    return float(string.replace(\",\" , \"\"))"
   ]
  },
  {
   "cell_type": "code",
   "execution_count": 68,
   "id": "d1c46069",
   "metadata": {},
   "outputs": [
    {
     "data": {
      "text/plain": [
       "1000.0"
      ]
     },
     "execution_count": 68,
     "metadata": {},
     "output_type": "execute_result"
    }
   ],
   "source": [
    "#test our function\n",
    "handle_commas('1,000')"
   ]
  },
  {
   "cell_type": "code",
   "execution_count": 69,
   "id": "30ad100f",
   "metadata": {},
   "outputs": [],
   "source": [
    "#if you want it without a decimal place\n",
    "def handle_commas2(string):\n",
    "    string = string.replace(\",\" , \"\") \n",
    "    return string"
   ]
  },
  {
   "cell_type": "code",
   "execution_count": 70,
   "id": "37449d0e",
   "metadata": {},
   "outputs": [
    {
     "data": {
      "text/plain": [
       "'1000'"
      ]
     },
     "execution_count": 70,
     "metadata": {},
     "output_type": "execute_result"
    }
   ],
   "source": [
    "#test that out\n",
    "handle_commas2('1,000')"
   ]
  },
  {
   "cell_type": "markdown",
   "id": "f08b3c7c",
   "metadata": {},
   "source": [
    "### #8. Define a function named get_letter_grade. It should accept a number and return the letter grade associated with that number (A-F)."
   ]
  },
  {
   "cell_type": "code",
   "execution_count": null,
   "id": "2222239d",
   "metadata": {},
   "outputs": [],
   "source": [
    "def is_letter_grade(score):\n",
    "    '''\n",
    "    This function takes in a score as an integer\n",
    "    and returns the letter grade\n",
    "    '''\n",
    "    if(score < 60):\n",
    "        return \"F\"\n",
    "    elif(score < 70):\n",
    "        return \"D\"\n",
    "    elif(score < 80):\n",
    "        return \"C\"\n",
    "    elif(score < 90):\n",
    "        return \"B\"\n",
    "    elif(score <101):\n",
    "        return \"A\""
   ]
  },
  {
   "cell_type": "code",
   "execution_count": null,
   "id": "a3275837",
   "metadata": {},
   "outputs": [],
   "source": [
    "#test it out\n",
    "is_letter_grade(89)"
   ]
  },
  {
   "cell_type": "code",
   "execution_count": 104,
   "id": "5173f7f4",
   "metadata": {},
   "outputs": [],
   "source": [
    "def get_letter_grade2(grade):\n",
    "    '''\n",
    "    This function takes in a score as an integer\n",
    "    and returns the letter grade.\n",
    "    If the input is not numeric, it will return 'Input must be a number'\n",
    "    '''\n",
    "    if type(grade) == int or type(grade) == float:\n",
    "        if grade >= 90:\n",
    "            return \"A\"\n",
    "        elif grade >= 80:\n",
    "            return \"B\"\n",
    "        elif grade >= 70:\n",
    "            return \"C\"\n",
    "        elif grade >= 60:\n",
    "            return \"D\"\n",
    "        else:\n",
    "            return \"F\"\n",
    "    else:\n",
    "        return \"Input must be a number\""
   ]
  },
  {
   "cell_type": "code",
   "execution_count": 72,
   "id": "352479c3",
   "metadata": {},
   "outputs": [
    {
     "data": {
      "text/plain": [
       "'B'"
      ]
     },
     "execution_count": 72,
     "metadata": {},
     "output_type": "execute_result"
    }
   ],
   "source": [
    "#test this function\n",
    "get_letter_grade2(89)"
   ]
  },
  {
   "cell_type": "code",
   "execution_count": 74,
   "id": "f1676273",
   "metadata": {},
   "outputs": [
    {
     "data": {
      "text/plain": [
       "'Input must be a number'"
      ]
     },
     "execution_count": 74,
     "metadata": {},
     "output_type": "execute_result"
    }
   ],
   "source": [
    "#try to break it with an alpha string\n",
    "#we will get what comes back in our else statement\n",
    "get_letter_grade2('B')"
   ]
  },
  {
   "cell_type": "markdown",
   "id": "1d50f622",
   "metadata": {},
   "source": [
    "### #9. Define a function named remove_vowels that accepts a string and returns a string with all the vowels removed."
   ]
  },
  {
   "cell_type": "code",
   "execution_count": 78,
   "id": "78b0caab",
   "metadata": {},
   "outputs": [],
   "source": [
    "def remove_vowels(string):\n",
    "    '''\n",
    "    This function will take in a string\n",
    "    and return that string with the vowels removed \n",
    "    '''\n",
    "    vowels = ('a', 'e', 'i', 'o', 'u') #identify what vowels are\n",
    "    for x in string.lower(): #for loop, lowercase the vowes so they fall into our vowel parameters\n",
    "        if x in vowels: #if there is a vowel within the string, remove/replace it with empty space\n",
    "            string = string.replace(x, \"\") \n",
    "              \n",
    "    print(string) #print the resulting string without vowels"
   ]
  },
  {
   "cell_type": "code",
   "execution_count": 79,
   "id": "82bb1216",
   "metadata": {},
   "outputs": [
    {
     "name": "stdout",
     "output_type": "stream",
     "text": [
      "ppl\n"
     ]
    }
   ],
   "source": [
    "#check to see if it works\n",
    "remove_vowels('apple')"
   ]
  },
  {
   "cell_type": "markdown",
   "id": "be11ebea",
   "metadata": {},
   "source": [
    "### #10. Define a function named normalize_name. It should accept a string and return a valid python identifier, that is:"
   ]
  },
  {
   "cell_type": "code",
   "execution_count": 86,
   "id": "a147d5f0",
   "metadata": {},
   "outputs": [],
   "source": [
    "def normalize_name(string):\n",
    "    '''\n",
    "    This function takes in a string\n",
    "    removes all $,%,! and whitespace and replaces them with an underscore\n",
    "    and returns that string as a valid python identifier\n",
    "    '''\n",
    "    string = string.replace(\"$\", \"\") \n",
    "    string = string.replace(\"%\", \"\")\n",
    "    string = string.replace(\"!\", \"\")\n",
    "    string = string.replace(\" \", \"_\")\n",
    "    string = string.lower()\n",
    "    return(string)"
   ]
  },
  {
   "cell_type": "code",
   "execution_count": 87,
   "id": "4fb90de5",
   "metadata": {},
   "outputs": [
    {
     "data": {
      "text/plain": [
       "'apple_do_'"
      ]
     },
     "execution_count": 87,
     "metadata": {},
     "output_type": "execute_result"
    }
   ],
   "source": [
    "#test out function\n",
    "normalize_name(\"%Apple$ dO! \")"
   ]
  },
  {
   "cell_type": "code",
   "execution_count": 88,
   "id": "32161da6",
   "metadata": {},
   "outputs": [],
   "source": [
    "#if you want it without the python identifier (underscore)\n",
    "def normalize_name2(string):\n",
    "    '''\n",
    "    This function takes in a string\n",
    "    removes all $,%,! and whitespace and replaces them with an underscore\n",
    "    and returns that corrected string \n",
    "    '''\n",
    "    string = string.replace(\"$\", \"\")\n",
    "    string = string.replace(\"%\", \"\")\n",
    "    string = string.replace(\"!\", \"\")\n",
    "    string = string.lower()\n",
    "    return(string)"
   ]
  },
  {
   "cell_type": "code",
   "execution_count": 89,
   "id": "0b247f98",
   "metadata": {},
   "outputs": [
    {
     "data": {
      "text/plain": [
       "'apple do '"
      ]
     },
     "execution_count": 89,
     "metadata": {},
     "output_type": "execute_result"
    }
   ],
   "source": [
    "normalize_name2(\"%Apple$ dO! \")"
   ]
  },
  {
   "cell_type": "markdown",
   "id": "cb18166a",
   "metadata": {},
   "source": [
    "### #11. Write a function named cumulative_sum that accepts a list of numbers and returns a list that is the cumulative sum of the numbers in the list."
   ]
  },
  {
   "cell_type": "code",
   "execution_count": 93,
   "id": "f29172f8",
   "metadata": {},
   "outputs": [],
   "source": [
    "def cumulative_sum(nums):\n",
    "    '''\n",
    "    This function takes in a list of numbers\n",
    "    and returns the sum of those numbers\n",
    "    '''\n",
    "    output = []\n",
    "    total = 0\n",
    "    for num in nums:\n",
    "        total += num\n",
    "        output.append(total)\n",
    "    return output"
   ]
  },
  {
   "cell_type": "code",
   "execution_count": 94,
   "id": "c8a723af",
   "metadata": {},
   "outputs": [
    {
     "data": {
      "text/plain": [
       "[1, 3, 6]"
      ]
     },
     "execution_count": 94,
     "metadata": {},
     "output_type": "execute_result"
    }
   ],
   "source": [
    "#make sure that the function works\n",
    "cumulative_sum([1,2,3])"
   ]
  },
  {
   "cell_type": "code",
   "execution_count": 100,
   "id": "a5c2698d",
   "metadata": {},
   "outputs": [],
   "source": [
    "#alternate way to complete the same problem\n",
    "def cumulative_sum2(oldlist):\n",
    "    '''\n",
    "    This function takes in a list of numbers\n",
    "    and returns the sum of those numbers\n",
    "    '''\n",
    "    newlist = []\n",
    "    i = 1\n",
    "    for num in oldlist:\n",
    "        cumusum = sum(oldlist[:i])\n",
    "        newlist.append(cumusum)\n",
    "        i += 1\n",
    "    return newlist"
   ]
  },
  {
   "cell_type": "code",
   "execution_count": 102,
   "id": "0ecabc37",
   "metadata": {},
   "outputs": [
    {
     "data": {
      "text/plain": [
       "[1, 3, 6, 10]"
      ]
     },
     "execution_count": 102,
     "metadata": {},
     "output_type": "execute_result"
    }
   ],
   "source": [
    "#make sure the function works\n",
    "cumulative_sum2([1,2,3,4])"
   ]
  }
 ],
 "metadata": {
  "kernelspec": {
   "display_name": "Python 3 (ipykernel)",
   "language": "python",
   "name": "python3"
  },
  "language_info": {
   "codemirror_mode": {
    "name": "ipython",
    "version": 3
   },
   "file_extension": ".py",
   "mimetype": "text/x-python",
   "name": "python",
   "nbconvert_exporter": "python",
   "pygments_lexer": "ipython3",
   "version": "3.9.13"
  }
 },
 "nbformat": 4,
 "nbformat_minor": 5
}
