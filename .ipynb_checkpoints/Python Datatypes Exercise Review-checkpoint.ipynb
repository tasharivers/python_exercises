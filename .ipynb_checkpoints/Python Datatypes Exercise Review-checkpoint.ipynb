{
 "cells": [
  {
   "cell_type": "markdown",
   "id": "82182148",
   "metadata": {},
   "source": [
    "## #1\n",
    "#### You have rented some movies for your kids: The little mermaid (for 3 days), Brother Bear (for 5 days, they love it), and Hercules (1 day, you don't know yet if they're going to like it). If price for a movie per day is 3 dollars, how much will you have to pay?"
   ]
  },
  {
   "cell_type": "code",
   "execution_count": 1,
   "id": "bacae32f",
   "metadata": {},
   "outputs": [],
   "source": [
    "#create a variable to how many days we rented little mermaid\n",
    "little_mermaid = 3"
   ]
  },
  {
   "cell_type": "code",
   "execution_count": 2,
   "id": "faf18bff",
   "metadata": {},
   "outputs": [],
   "source": [
    "#create a variable to how many days we rented brother bear\n",
    "brother_bear = 5"
   ]
  },
  {
   "cell_type": "code",
   "execution_count": 3,
   "id": "6cd117b9",
   "metadata": {},
   "outputs": [],
   "source": [
    "#create a variable to how many days we rented hercules\n",
    "hercules = 1"
   ]
  },
  {
   "cell_type": "code",
   "execution_count": 4,
   "id": "27ca1288",
   "metadata": {},
   "outputs": [],
   "source": [
    "#create a variable for the price per day\n",
    "price_per_day = 3"
   ]
  },
  {
   "cell_type": "code",
   "execution_count": 5,
   "id": "768f93f2",
   "metadata": {},
   "outputs": [],
   "source": [
    "#assign the variable 'price_total' for the cost \n",
    "price_total = price_per_day *(little_mermaid + brother_bear + hercules)"
   ]
  },
  {
   "cell_type": "code",
   "execution_count": 6,
   "id": "f1ae78e8",
   "metadata": {},
   "outputs": [
    {
     "name": "stdout",
     "output_type": "stream",
     "text": [
      "27\n"
     ]
    }
   ],
   "source": [
    "#call your new variable\n",
    "print(price_total)"
   ]
  },
  {
   "cell_type": "markdown",
   "id": "dc2f38f9",
   "metadata": {},
   "source": [
    "## #2\n",
    "#### Suppose you're working as a contractor for 3 companies: Google, Amazon and Facebook, they pay you a different rate per hour. Google pays 400 dollars per hour, Amazon 380, and Facebook 350. How much will you receive in payment for this week? You worked 10 hours for Facebook, 6 hours for Google and 4 hours for Amazon."
   ]
  },
  {
   "cell_type": "code",
   "execution_count": 7,
   "id": "9ce0826e",
   "metadata": {},
   "outputs": [],
   "source": [
    "#variable for FB pay\n",
    "Facebook_pay = 350"
   ]
  },
  {
   "cell_type": "code",
   "execution_count": 8,
   "id": "57c1bae4",
   "metadata": {},
   "outputs": [],
   "source": [
    "#variable for how many hours worked at FB\n",
    "Facebook_hrs = 10"
   ]
  },
  {
   "cell_type": "code",
   "execution_count": 9,
   "id": "2d5be538",
   "metadata": {},
   "outputs": [],
   "source": [
    "#variable for google pay\n",
    "Google_pay = 400"
   ]
  },
  {
   "cell_type": "code",
   "execution_count": 10,
   "id": "04dcbbe7",
   "metadata": {},
   "outputs": [],
   "source": [
    "#variable for how many hours worked at google\n",
    "Google_hrs = 6"
   ]
  },
  {
   "cell_type": "code",
   "execution_count": 11,
   "id": "e1629fa2",
   "metadata": {},
   "outputs": [],
   "source": [
    "#variable for amazon pay\n",
    "Amazon_pay= 380"
   ]
  },
  {
   "cell_type": "code",
   "execution_count": 12,
   "id": "c85cdabb",
   "metadata": {},
   "outputs": [],
   "source": [
    "#variable for how many hours worked at amazon\n",
    "Amazon_hrs = 4"
   ]
  },
  {
   "cell_type": "code",
   "execution_count": 13,
   "id": "6d8366fb",
   "metadata": {},
   "outputs": [],
   "source": [
    "#create the variable \"weekly_pay\" which multples each jobs hours and pays.. and adds them all together\n",
    "weekly_pay = (Facebook_pay * Facebook_hrs) + (Google_pay * Google_hrs) + (Amazon_pay * Amazon_hrs)"
   ]
  },
  {
   "cell_type": "code",
   "execution_count": 14,
   "id": "90999b43",
   "metadata": {},
   "outputs": [
    {
     "data": {
      "text/plain": [
       "7420"
      ]
     },
     "execution_count": 14,
     "metadata": {},
     "output_type": "execute_result"
    }
   ],
   "source": [
    "#call the new variable to get our total weekly pay\n",
    "weekly_pay"
   ]
  },
  {
   "cell_type": "markdown",
   "id": "9fe814e2",
   "metadata": {},
   "source": [
    "## #3\n",
    "#### A student can be enrolled to a class only if the class is not full and the class schedule does not conflict with her current schedule."
   ]
  },
  {
   "cell_type": "code",
   "execution_count": 15,
   "id": "e05475ce",
   "metadata": {},
   "outputs": [
    {
     "data": {
      "text/plain": [
       "True"
      ]
     },
     "execution_count": 15,
     "metadata": {},
     "output_type": "execute_result"
    }
   ],
   "source": [
    "#ONE way to accomplish this\n",
    "\n",
    "#create variables with class not full and schedule not conflicting being TRUE\n",
    "class_is_not_full = True\n",
    "schedule_does_not_conflict = True\n",
    "\n",
    "#create variable where class not full AND schedule not conflicting\n",
    "enroll = class_is_not_full and schedule_does_not_conflict\n",
    "\n",
    "#call our variable\n",
    "enroll"
   ]
  },
  {
   "cell_type": "code",
   "execution_count": 16,
   "id": "f3804e64",
   "metadata": {},
   "outputs": [
    {
     "data": {
      "text/plain": [
       "True"
      ]
     },
     "execution_count": 16,
     "metadata": {},
     "output_type": "execute_result"
    }
   ],
   "source": [
    "#ANOTHER way to accomplish this/ this is just the converse of the previous solution\n",
    "\n",
    "#create variables with class full and schedule conflicting being FALSE\n",
    "class_is_full = False\n",
    "schedule_conflict = False\n",
    "\n",
    "#create variable where class is not full and schedule does not conflict\n",
    "enrollable_status = not (class_is_full or schedule_conflict)\n",
    "\n",
    "#call our variable\n",
    "enrollable_status"
   ]
  },
  {
   "cell_type": "markdown",
   "id": "f0a9af8e",
   "metadata": {},
   "source": [
    "## #4\n",
    "#### A product offer can be applied only if people buys more than 2 items, and the offer has not expired. Premium members do not need to buy a specific amount of products."
   ]
  },
  {
   "cell_type": "code",
   "execution_count": 17,
   "id": "71e3bed9",
   "metadata": {},
   "outputs": [
    {
     "data": {
      "text/plain": [
       "True"
      ]
     },
     "execution_count": 17,
     "metadata": {},
     "output_type": "execute_result"
    }
   ],
   "source": [
    "#create variables for bought more then 2 items, item not expired and no premium membership\n",
    "purchase_more_than_two = True\n",
    "product_not_expired = True\n",
    "premium_membership = False\n",
    "\n",
    "#create variable to determain discount eligibility\n",
    "#must have product not expired AND... puchase more than 2 OR be members\n",
    "discount_eligability = product_not_expired and (purchase_more_than_two or premium_membership)\n",
    "\n",
    "#call this variable\n",
    "discount_eligability"
   ]
  },
  {
   "cell_type": "code",
   "execution_count": 18,
   "id": "a0267343",
   "metadata": {},
   "outputs": [],
   "source": [
    "#check it out!\n",
    "\n",
    "#if we are a premium member\n",
    "premium_member = True\n",
    "\n",
    "#but we don't purchase more than 2 items\n",
    "more_than_two_items = False\n",
    "\n",
    "#and the coupon isn't expired\n",
    "coupon_not_expired = True"
   ]
  },
  {
   "cell_type": "code",
   "execution_count": 19,
   "id": "9abcda2e",
   "metadata": {},
   "outputs": [
    {
     "data": {
      "text/plain": [
       "True"
      ]
     },
     "execution_count": 19,
     "metadata": {},
     "output_type": "execute_result"
    }
   ],
   "source": [
    "#do we still get our discount??\n",
    "coupon_not_expired and (more_than_two_items or premium_member)"
   ]
  },
  {
   "cell_type": "markdown",
   "id": "a20fe881",
   "metadata": {},
   "source": [
    "## #5\n",
    "#### username = 'codeup'\n",
    "#### password = 'notastrongpassword'\n",
    "#### Create a variable that holds a boolean value for each of the following conditions:\n",
    "\n",
    "#### the password must be at least 5 characters\n",
    "#### the username must be no more than 20 characters\n",
    "### the password must not be the same as the username\n",
    "#### *bonus neither the username or password can start or end with whitespace"
   ]
  },
  {
   "cell_type": "code",
   "execution_count": 27,
   "id": "730209c1",
   "metadata": {},
   "outputs": [
    {
     "data": {
      "text/plain": [
       "True"
      ]
     },
     "execution_count": 27,
     "metadata": {},
     "output_type": "execute_result"
    }
   ],
   "source": [
    "username = 'codeup'\n",
    "password = 'notastrongpassword'\n",
    "\n",
    "\n",
    "#1- the password must be at least 5 characters\n",
    "password_length = len(password) >= 5 \n",
    "\n",
    "#2- the username must be no more than 20 characters\n",
    "username_length = len(username) <= 20\n",
    "\n",
    "#3- the password must not be the same as the username\n",
    "qualification = password != username\n",
    "\n",
    "#create a variable to add all 3 components together\n",
    "user_and_password_valid = password_length and username_length and qualification\n",
    "\n",
    "#call the variable\n",
    "user_and_password_valid"
   ]
  },
  {
   "cell_type": "code",
   "execution_count": 21,
   "id": "2acbeb4b",
   "metadata": {},
   "outputs": [],
   "source": [
    "#let's try another username and password to double check\n",
    "\n",
    "my_username = 'Queenofthejungle'\n",
    "my_password = 'Tashaisthebest'"
   ]
  },
  {
   "cell_type": "code",
   "execution_count": 22,
   "id": "1fe7bc3f",
   "metadata": {},
   "outputs": [
    {
     "data": {
      "text/plain": [
       "True"
      ]
     },
     "execution_count": 22,
     "metadata": {},
     "output_type": "execute_result"
    }
   ],
   "source": [
    "#does the length of my password meet the requirements?\n",
    "pass_len= len(my_password) > 4\n",
    "pass_len"
   ]
  },
  {
   "cell_type": "code",
   "execution_count": 23,
   "id": "c4a9d5f1",
   "metadata": {},
   "outputs": [
    {
     "data": {
      "text/plain": [
       "True"
      ]
     },
     "execution_count": 23,
     "metadata": {},
     "output_type": "execute_result"
    }
   ],
   "source": [
    "#does the length of my username meet the requirements?\n",
    "use_len = len(my_username) <= 20\n",
    "use_len"
   ]
  },
  {
   "cell_type": "code",
   "execution_count": 24,
   "id": "50c4dc25",
   "metadata": {},
   "outputs": [
    {
     "data": {
      "text/plain": [
       "True"
      ]
     },
     "execution_count": 24,
     "metadata": {},
     "output_type": "execute_result"
    }
   ],
   "source": [
    "#are username and password NOT the same?\n",
    "valid = my_username != my_password\n",
    "valid"
   ]
  },
  {
   "cell_type": "code",
   "execution_count": 25,
   "id": "ef236c4b",
   "metadata": {},
   "outputs": [
    {
     "data": {
      "text/plain": [
       "True"
      ]
     },
     "execution_count": 25,
     "metadata": {},
     "output_type": "execute_result"
    }
   ],
   "source": [
    "#do we meet all 3 requirements??\n",
    "valid = pass_len and use_len and valid\n",
    "\n",
    "#call the variable\n",
    "valid"
   ]
  },
  {
   "cell_type": "markdown",
   "id": "1d1f794f",
   "metadata": {},
   "source": [
    "### Bonus: neither the username or password can start or end with whitespace"
   ]
  },
  {
   "cell_type": "code",
   "execution_count": null,
   "id": "e40eb082",
   "metadata": {},
   "outputs": [],
   "source": [
    "#username and password from above\n",
    "username = 'codeup'\n",
    "password = 'notastrongpassword'"
   ]
  },
  {
   "cell_type": "code",
   "execution_count": 29,
   "id": "a6cf465a",
   "metadata": {},
   "outputs": [],
   "source": [
    "#create variable for no whitespace in username\n",
    "#we are saying that username cannot start with or end with [-1] any whitespace\n",
    "no_white_space_username = not (username.startswith(' ') or username [-1] == ' ')\n",
    "\n",
    "#create variable for no whitespace in password\n",
    "#we are saying that password cannot start with or end with [-1] any whitespace\n",
    "no_white_space_password = not (password.startswith(' ') or password [-1] == ' ')\n",
    "\n",
    "#here we are creating a variable to make sure the length of username and password meet requirements\n",
    "#AND there is NO whitespace in username or password\n",
    "user_and_password_valid = password_length and username_length and qualification and no_white_space_username and no_white_space_password "
   ]
  },
  {
   "cell_type": "code",
   "execution_count": 30,
   "id": "84843269",
   "metadata": {},
   "outputs": [
    {
     "data": {
      "text/plain": [
       "True"
      ]
     },
     "execution_count": 30,
     "metadata": {},
     "output_type": "execute_result"
    }
   ],
   "source": [
    "#Let's check if our username and password meet qualifications\n",
    "user_and_password_valid"
   ]
  },
  {
   "cell_type": "code",
   "execution_count": 31,
   "id": "3ab2b461",
   "metadata": {},
   "outputs": [],
   "source": [
    "#what if we break it?\n",
    "#let's pick a username that DOES have whitespace\n",
    "\n",
    "username_break = ' codeup'\n",
    "password_break = 'notastrongpassword  '"
   ]
  },
  {
   "cell_type": "code",
   "execution_count": 32,
   "id": "7f63b371",
   "metadata": {},
   "outputs": [],
   "source": [
    "#Lets try with username_break and password_break\n",
    "no_white_space_username = not (username_break.startswith(' ') or username_break [-1] == ' ')\n",
    "no_white_space_password = not (password_break.startswith(' ') or password_break [-1] == ' ')\n",
    "user_and_password_valid = password_length and username_length and qualification and no_white_space_username and no_white_space_password "
   ]
  },
  {
   "cell_type": "code",
   "execution_count": 33,
   "id": "b9bca3bc",
   "metadata": {},
   "outputs": [
    {
     "data": {
      "text/plain": [
       "False"
      ]
     },
     "execution_count": 33,
     "metadata": {},
     "output_type": "execute_result"
    }
   ],
   "source": [
    "#is this a valid username or password?? NO! Because there is whitespace\n",
    "user_and_password_valid"
   ]
  }
 ],
 "metadata": {
  "kernelspec": {
   "display_name": "Python 3 (ipykernel)",
   "language": "python",
   "name": "python3"
  },
  "language_info": {
   "codemirror_mode": {
    "name": "ipython",
    "version": 3
   },
   "file_extension": ".py",
   "mimetype": "text/x-python",
   "name": "python",
   "nbconvert_exporter": "python",
   "pygments_lexer": "ipython3",
   "version": "3.9.13"
  }
 },
 "nbformat": 4,
 "nbformat_minor": 5
}
