{
 "cells": [
  {
   "cell_type": "markdown",
   "id": "65c8eb42",
   "metadata": {},
   "source": [
    "### Exercise 1:\n",
    "1. Import and test 3 of the functions from your functions exercise file. Import each function in a different way:\n",
    "- Run an interactive python session and import the module. Call the is_vowel function using the . syntax.\n",
    "- Create a file named import_exericses.py. Within this file, use from to import the calculate_tip function directly. - - Call this function with values you choose and print the result.\n",
    "- Create a jupyter notebook named import_exercises.ipynb. Use from to import the get_letter_grade function and give it an alias. Test this function in your notebook.\n",
    "\n",
    "Make sure your code that tests the function imports is run from the same directory that your functions exercise file is in."
   ]
  },
  {
   "cell_type": "markdown",
   "id": "bc528ee3",
   "metadata": {},
   "source": [
    "1. Open Terminal\n",
    "\n",
    "<br>\n",
    "    \n",
    "2. create .py file\n",
    "- touch my_func.py\n",
    "    \n",
    "<br>\n",
    "    \n",
    "3. Open and write out functions\n",
    "- open my_func.py\n",
    "    \n",
    "<br>\n",
    "    \n",
    "4. create is_vowel function\n",
    "- def is_vowel(string):\n",
    "-    ''' return if input item is the number two or the string two'''\n",
    "    \n",
    "    return string.lower() in ['a','e','i','o', 'u']\n",
    "    \n",
    "<br>\n",
    "    \n",
    "5. create calculate_tip function\n",
    "- def calculate_tip(tip_percentage, total_bill):\n",
    "-    ''' takes in tip percentage and total bill and returns the amount of the tip'''\n",
    "    \n",
    "    return total_bill * (tip_percentage/100)\n",
    "\n",
    "<br>\n",
    "\n",
    "6. Create get_letter_grade\n",
    "- def get_letter_grade(number):\n",
    "-    ''' takes in a number returns corresponding letter grade'''\n",
    "    \n",
    "    if number >= 90:\n",
    "        \n",
    "        return 'A'\n",
    "    \n",
    "    elif number >= 80:\n",
    "        \n",
    "        return 'B'\n",
    "    \n",
    "    elif number >= 70:\n",
    "        \n",
    "        return 'C'\n",
    "    \n",
    "    else:\n",
    "        \n",
    "        return 'F'"
   ]
  },
  {
   "cell_type": "code",
   "execution_count": 3,
   "id": "1a23916e",
   "metadata": {},
   "outputs": [],
   "source": [
    "import my_func as f"
   ]
  },
  {
   "cell_type": "code",
   "execution_count": 4,
   "id": "439188c0",
   "metadata": {},
   "outputs": [
    {
     "data": {
      "text/plain": [
       "False"
      ]
     },
     "execution_count": 4,
     "metadata": {},
     "output_type": "execute_result"
    }
   ],
   "source": [
    "f.is_vowel('potato')"
   ]
  },
  {
   "cell_type": "code",
   "execution_count": 6,
   "id": "932ef88e",
   "metadata": {},
   "outputs": [],
   "source": [
    "from my_func import calculate_tip"
   ]
  },
  {
   "cell_type": "code",
   "execution_count": 7,
   "id": "06d270cc",
   "metadata": {},
   "outputs": [
    {
     "data": {
      "text/plain": [
       "0.1"
      ]
     },
     "execution_count": 7,
     "metadata": {},
     "output_type": "execute_result"
    }
   ],
   "source": [
    "calculate_tip(.10, 100)"
   ]
  },
  {
   "cell_type": "markdown",
   "id": "6df32a92",
   "metadata": {},
   "source": [
    "<hr style=\"border:2px solid black\">"
   ]
  },
  {
   "cell_type": "markdown",
   "id": "8f9f03b6",
   "metadata": {},
   "source": [
    "## Exercise 2:\n",
    "1. How many different ways can you combine the letters from \"abc\" with the numbers 1, 2, and 3? \n",
    "2. How many different combinations are there of 2 letters from \"abcd\"?\n",
    "3. How many different permutations are there of 2 letters from \"abcd\"?"
   ]
  },
  {
   "cell_type": "code",
   "execution_count": 9,
   "id": "0b6d3977",
   "metadata": {},
   "outputs": [],
   "source": [
    "import itertools"
   ]
  },
  {
   "cell_type": "markdown",
   "id": "cf6f140b",
   "metadata": {},
   "source": [
    "### #1 How many different ways can you combine the letters from \"abc\" with the numbers 1, 2, and 3? "
   ]
  },
  {
   "cell_type": "code",
   "execution_count": 10,
   "id": "39e1cbe5",
   "metadata": {},
   "outputs": [
    {
     "data": {
      "text/plain": [
       "[('a', 1),\n",
       " ('a', 2),\n",
       " ('a', 3),\n",
       " ('b', 1),\n",
       " ('b', 2),\n",
       " ('b', 3),\n",
       " ('c', 1),\n",
       " ('c', 2),\n",
       " ('c', 3)]"
      ]
     },
     "execution_count": 10,
     "metadata": {},
     "output_type": "execute_result"
    }
   ],
   "source": [
    "#Option #1--- \n",
    "\n",
    "#we enter the combination we want and request a list of the different combinations\n",
    "list(itertools.product(\"abc\",[1,2,3]))"
   ]
  },
  {
   "cell_type": "code",
   "execution_count": 12,
   "id": "e754f4fc",
   "metadata": {},
   "outputs": [
    {
     "name": "stdout",
     "output_type": "stream",
     "text": [
      "You can combine \"abc\" and 123 in 9 different ways.\n"
     ]
    }
   ],
   "source": [
    "#Option #2--- more advanced--- \n",
    "\n",
    "#variable named num_combo\n",
    "#asking to return the length of this combination of numbers and letters\n",
    "#print statement \n",
    "num_combo = len(list(itertools.product(\"abc\", [1, 2, 3])))\n",
    "print(f\"You can combine \\\"abc\\\" and 123 in {num_combo} different ways.\")"
   ]
  },
  {
   "cell_type": "markdown",
   "id": "fe2c4a9f",
   "metadata": {},
   "source": [
    "### #2 How many different combinations are there of 2 letters from \"abcd\"?"
   ]
  },
  {
   "cell_type": "code",
   "execution_count": 13,
   "id": "b43a7973",
   "metadata": {},
   "outputs": [
    {
     "data": {
      "text/plain": [
       "6"
      ]
     },
     "execution_count": 13,
     "metadata": {},
     "output_type": "execute_result"
    }
   ],
   "source": [
    "#requesting the length of this combination\n",
    "len(list(itertools.combinations(\"abcd\", 2)))"
   ]
  },
  {
   "cell_type": "markdown",
   "id": "31ec21bc",
   "metadata": {},
   "source": [
    "### #3. How many different permutations are there of 2 letters from \"abcd\"?"
   ]
  },
  {
   "cell_type": "code",
   "execution_count": 14,
   "id": "e1f56f4c",
   "metadata": {},
   "outputs": [
    {
     "data": {
      "text/plain": [
       "12"
      ]
     },
     "execution_count": 14,
     "metadata": {},
     "output_type": "execute_result"
    }
   ],
   "source": [
    "len(list(itertools.permutations(\"abcd\", 2)))"
   ]
  },
  {
   "cell_type": "markdown",
   "id": "574d3520",
   "metadata": {},
   "source": [
    "<hr style=\"border:2px solid black\">"
   ]
  },
  {
   "cell_type": "markdown",
   "id": "5113b9ee",
   "metadata": {},
   "source": [
    "## Exercise #3"
   ]
  },
  {
   "cell_type": "code",
   "execution_count": 22,
   "id": "b583e2b3",
   "metadata": {},
   "outputs": [],
   "source": [
    "import json"
   ]
  },
  {
   "cell_type": "code",
   "execution_count": 24,
   "id": "2b31f4c0",
   "metadata": {},
   "outputs": [
    {
     "data": {
      "text/plain": [
       "{'cells': [], 'metadata': {}, 'nbformat': 4, 'nbformat_minor': 5}"
      ]
     },
     "execution_count": 24,
     "metadata": {},
     "output_type": "execute_result"
    }
   ],
   "source": [
    "json.load(open('profiles.json'))"
   ]
  },
  {
   "cell_type": "code",
   "execution_count": 23,
   "id": "d9762da3",
   "metadata": {},
   "outputs": [
    {
     "name": "stdout",
     "output_type": "stream",
     "text": [
      "['Python Datatypes Exercise Review.ipynb', 'profiles.json', '.my_func.py.swp', '__pycache__', 'import_exercises.ipynb', '.ipynb_checkpoints', 'my_func.py', '.git']\n"
     ]
    }
   ],
   "source": [
    "print(os.listdir())"
   ]
  },
  {
   "cell_type": "code",
   "execution_count": null,
   "id": "004dd835",
   "metadata": {},
   "outputs": [],
   "source": []
  }
 ],
 "metadata": {
  "kernelspec": {
   "display_name": "Python 3 (ipykernel)",
   "language": "python",
   "name": "python3"
  },
  "language_info": {
   "codemirror_mode": {
    "name": "ipython",
    "version": 3
   },
   "file_extension": ".py",
   "mimetype": "text/x-python",
   "name": "python",
   "nbconvert_exporter": "python",
   "pygments_lexer": "ipython3",
   "version": "3.9.13"
  }
 },
 "nbformat": 4,
 "nbformat_minor": 5
}
