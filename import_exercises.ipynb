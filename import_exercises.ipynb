{
 "cells": [
  {
   "cell_type": "markdown",
   "id": "65c8eb42",
   "metadata": {},
   "source": [
    "### Exercise 1:\n",
    "1. Import and test 3 of the functions from your functions exercise file. Import each function in a different way:\n",
    "- Run an interactive python session and import the module. Call the is_vowel function using the . syntax.\n",
    "- Create a file named import_exericses.py. Within this file, use from to import the calculate_tip function directly. - - Call this function with values you choose and print the result.\n",
    "- Create a jupyter notebook named import_exercises.ipynb. Use from to import the get_letter_grade function and give it an alias. Test this function in your notebook.\n",
    "\n",
    "Make sure your code that tests the function imports is run from the same directory that your functions exercise file is in."
   ]
  },
  {
   "cell_type": "code",
   "execution_count": 1,
   "id": "1a23916e",
   "metadata": {},
   "outputs": [
    {
     "ename": "ModuleNotFoundError",
     "evalue": "No module named 'my_func'",
     "output_type": "error",
     "traceback": [
      "\u001b[0;31m---------------------------------------------------------------------------\u001b[0m",
      "\u001b[0;31mModuleNotFoundError\u001b[0m                       Traceback (most recent call last)",
      "Input \u001b[0;32mIn [1]\u001b[0m, in \u001b[0;36m<cell line: 1>\u001b[0;34m()\u001b[0m\n\u001b[0;32m----> 1\u001b[0m \u001b[38;5;28;01mimport\u001b[39;00m \u001b[38;5;21;01mmy_func\u001b[39;00m\n",
      "\u001b[0;31mModuleNotFoundError\u001b[0m: No module named 'my_func'"
     ]
    }
   ],
   "source": [
    "import my_func"
   ]
  },
  {
   "cell_type": "code",
   "execution_count": 2,
   "id": "5f894aa6",
   "metadata": {},
   "outputs": [],
   "source": [
    "def is_vowel(string):\n",
    "    ''' return if input item is the number two or the string two'''\n",
    "    \n",
    "    return string.lower() in ['a','e','i','o', 'u']\n",
    "\n",
    "def calculate_tip(tip_percentage, total_bill):\n",
    "    ''' takes in tip percentage and total bill and returns the amount of the tip'''\n",
    "    \n",
    "    return total_bill * (tip_percentage/100)\n",
    "\n",
    "def get_letter_grade(number):\n",
    "    ''' takes in a number returns corresponding letter grade'''\n",
    "    \n",
    "    if number >= 90:\n",
    "        \n",
    "        return 'A'\n",
    "    \n",
    "    elif number >= 80:\n",
    "        \n",
    "        return 'B'\n",
    "    \n",
    "    elif number >= 70:\n",
    "        \n",
    "        return 'C'\n",
    "    \n",
    "    else:\n",
    "        \n",
    "        return 'F'"
   ]
  },
  {
   "cell_type": "code",
   "execution_count": null,
   "id": "439188c0",
   "metadata": {},
   "outputs": [],
   "source": []
  }
 ],
 "metadata": {
  "kernelspec": {
   "display_name": "Python 3 (ipykernel)",
   "language": "python",
   "name": "python3"
  },
  "language_info": {
   "codemirror_mode": {
    "name": "ipython",
    "version": 3
   },
   "file_extension": ".py",
   "mimetype": "text/x-python",
   "name": "python",
   "nbconvert_exporter": "python",
   "pygments_lexer": "ipython3",
   "version": "3.9.13"
  }
 },
 "nbformat": 4,
 "nbformat_minor": 5
}
