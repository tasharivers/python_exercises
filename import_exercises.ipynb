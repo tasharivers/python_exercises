{
 "cells": [
  {
   "cell_type": "markdown",
   "id": "65c8eb42",
   "metadata": {},
   "source": [
    "### Exercise 1:\n",
    "1. Import and test 3 of the functions from your functions exercise file. Import each function in a different way:\n",
    "- Run an interactive python session and import the module. Call the is_vowel function using the . syntax.\n",
    "- Create a file named import_exericses.py. Within this file, use from to import the calculate_tip function directly. - - Call this function with values you choose and print the result.\n",
    "- Create a jupyter notebook named import_exercises.ipynb. Use from to import the get_letter_grade function and give it an alias. Test this function in your notebook.\n",
    "\n",
    "Make sure your code that tests the function imports is run from the same directory that your functions exercise file is in."
   ]
  },
  {
   "cell_type": "markdown",
   "id": "91e6ff66",
   "metadata": {},
   "source": [
    "1. Open Terminal\n",
    "\n",
    "<br>\n",
    "    \n",
    "2. create .py file\n",
    "- touch my_func.py\n",
    "    \n",
    "<br>\n",
    "    \n",
    "3. Open and write out functions\n",
    "- open my_func.py\n",
    "    \n",
    "<br>\n",
    "    \n",
    "4. create is_vowel function\n",
    "- def is_vowel(string):\n",
    "-    ''' return if input item is the number two or the string two'''\n",
    "    \n",
    "    return string.lower() in ['a','e','i','o', 'u']\n",
    "    \n",
    "<br>\n",
    "    \n",
    "5. create calculate_tip function\n",
    "- def calculate_tip(tip_percentage, total_bill):\n",
    "-    ''' takes in tip percentage and total bill and returns the amount of the tip'''\n",
    "    \n",
    "    return total_bill * (tip_percentage/100)\n",
    "\n",
    "<br>\n",
    "\n",
    "6. Create get_letter_grade\n",
    "- def get_letter_grade(number):\n",
    "-    ''' takes in a number returns corresponding letter grade'''\n",
    "    \n",
    "    if number >= 90:\n",
    "        \n",
    "        return 'A'\n",
    "    \n",
    "    elif number >= 80:\n",
    "        \n",
    "        return 'B'\n",
    "    \n",
    "    elif number >= 70:\n",
    "        \n",
    "        return 'C'\n",
    "    \n",
    "    else:\n",
    "        \n",
    "        return 'F'"
   ]
  },
  {
   "cell_type": "code",
   "execution_count": 3,
   "id": "1a23916e",
   "metadata": {},
   "outputs": [],
   "source": [
    "import my_func as f"
   ]
  },
  {
   "cell_type": "code",
   "execution_count": 4,
   "id": "439188c0",
   "metadata": {},
   "outputs": [
    {
     "data": {
      "text/plain": [
       "False"
      ]
     },
     "execution_count": 4,
     "metadata": {},
     "output_type": "execute_result"
    }
   ],
   "source": [
    "f.is_vowel('potato')"
   ]
  },
  {
   "cell_type": "code",
   "execution_count": 6,
   "id": "6980c494",
   "metadata": {},
   "outputs": [],
   "source": [
    "from my_func import calculate_tip"
   ]
  },
  {
   "cell_type": "code",
   "execution_count": 7,
   "id": "fb85c31e",
   "metadata": {},
   "outputs": [
    {
     "data": {
      "text/plain": [
       "0.1"
      ]
     },
     "execution_count": 7,
     "metadata": {},
     "output_type": "execute_result"
    }
   ],
   "source": [
    "calculate_tip(.10, 100)"
   ]
  },
  {
   "cell_type": "markdown",
   "id": "d795e607",
   "metadata": {},
   "source": [
    "<hr style=\"border:2px solid black\">"
   ]
  },
  {
   "cell_type": "markdown",
   "id": "847a0392",
   "metadata": {},
   "source": [
    "## Exercise 2:\n",
    "1. How many different ways can you combine the letters from \"abc\" with the numbers 1, 2, and 3? \n",
    "2. How many different combinations are there of 2 letters from \"abcd\"?\n",
    "3. How many different permutations are there of 2 letters from \"abcd\"?"
   ]
  },
  {
   "cell_type": "code",
   "execution_count": 9,
   "id": "cb2afc53",
   "metadata": {},
   "outputs": [],
   "source": [
    "import itertools"
   ]
  },
  {
   "cell_type": "markdown",
   "id": "430e5d8a",
   "metadata": {},
   "source": [
    "### #1 How many different ways can you combine the letters from \"abc\" with the numbers 1, 2, and 3? "
   ]
  },
  {
   "cell_type": "code",
   "execution_count": 10,
   "id": "7cb87fff",
   "metadata": {},
   "outputs": [
    {
     "data": {
      "text/plain": [
       "[('a', 1),\n",
       " ('a', 2),\n",
       " ('a', 3),\n",
       " ('b', 1),\n",
       " ('b', 2),\n",
       " ('b', 3),\n",
       " ('c', 1),\n",
       " ('c', 2),\n",
       " ('c', 3)]"
      ]
     },
     "execution_count": 10,
     "metadata": {},
     "output_type": "execute_result"
    }
   ],
   "source": [
    "#Option #1--- \n",
    "\n",
    "#we enter the combination we want and request a list of the different combinations\n",
    "list(itertools.product(\"abc\",[1,2,3]))"
   ]
  },
  {
   "cell_type": "code",
   "execution_count": 12,
   "id": "78ced98e",
   "metadata": {},
   "outputs": [
    {
     "name": "stdout",
     "output_type": "stream",
     "text": [
      "You can combine \"abc\" and 123 in 9 different ways.\n"
     ]
    }
   ],
   "source": [
    "#Option #2--- more advanced--- \n",
    "\n",
    "#variable named num_combo\n",
    "#asking to return the length of this combination of numbers and letters\n",
    "#print statement \n",
    "num_combo = len(list(itertools.product(\"abc\", [1, 2, 3])))\n",
    "print(f\"You can combine \\\"abc\\\" and 123 in {num_combo} different ways.\")"
   ]
  },
  {
   "cell_type": "markdown",
   "id": "afe87f65",
   "metadata": {},
   "source": [
    "### #2 How many different combinations are there of 2 letters from \"abcd\"?"
   ]
  },
  {
   "cell_type": "code",
   "execution_count": 13,
   "id": "428f62d6",
   "metadata": {},
   "outputs": [
    {
     "data": {
      "text/plain": [
       "6"
      ]
     },
     "execution_count": 13,
     "metadata": {},
     "output_type": "execute_result"
    }
   ],
   "source": [
    "#requesting the length of this combination\n",
    "len(list(itertools.combinations(\"abcd\", 2)))"
   ]
  },
  {
   "cell_type": "markdown",
   "id": "b058c1ac",
   "metadata": {},
   "source": [
    "### #3. How many different permutations are there of 2 letters from \"abcd\"?"
   ]
  },
  {
   "cell_type": "code",
   "execution_count": 14,
   "id": "1de00729",
   "metadata": {},
   "outputs": [
    {
     "data": {
      "text/plain": [
       "12"
      ]
     },
     "execution_count": 14,
     "metadata": {},
     "output_type": "execute_result"
    }
   ],
   "source": [
    "len(list(itertools.permutations(\"abcd\", 2)))"
   ]
  },
  {
   "cell_type": "markdown",
   "id": "c508d1be",
   "metadata": {},
   "source": [
    "<hr style=\"border:2px solid black\">"
   ]
  },
  {
   "cell_type": "markdown",
   "id": "3309cb91",
   "metadata": {},
   "source": [
    "## Exercise #3"
   ]
  },
  {
   "cell_type": "code",
   "execution_count": 19,
   "id": "745b66f1",
   "metadata": {},
   "outputs": [],
   "source": [
    "import json"
   ]
  },
  {
   "cell_type": "code",
   "execution_count": 20,
   "id": "3fdfa166",
   "metadata": {},
   "outputs": [
    {
     "ename": "FileNotFoundError",
     "evalue": "[Errno 2] No such file or directory: 'profiles.json'",
     "output_type": "error",
     "traceback": [
      "\u001b[0;31m---------------------------------------------------------------------------\u001b[0m",
      "\u001b[0;31mFileNotFoundError\u001b[0m                         Traceback (most recent call last)",
      "Input \u001b[0;32mIn [20]\u001b[0m, in \u001b[0;36m<cell line: 1>\u001b[0;34m()\u001b[0m\n\u001b[0;32m----> 1\u001b[0m json\u001b[38;5;241m.\u001b[39mload(\u001b[38;5;28;43mopen\u001b[39;49m\u001b[43m(\u001b[49m\u001b[38;5;124;43m'\u001b[39;49m\u001b[38;5;124;43mprofiles.json\u001b[39;49m\u001b[38;5;124;43m'\u001b[39;49m\u001b[43m)\u001b[49m)\n",
      "\u001b[0;31mFileNotFoundError\u001b[0m: [Errno 2] No such file or directory: 'profiles.json'"
     ]
    }
   ],
   "source": [
    "json.load(open('profiles.json'))"
   ]
  },
  {
   "cell_type": "code",
   "execution_count": 21,
   "id": "b7cd0f82",
   "metadata": {},
   "outputs": [
    {
     "name": "stdout",
     "output_type": "stream",
     "text": [
      "['Python Datatypes Exercise Review.ipynb', '.my_func.py.swp', '__pycache__', 'import_exercises.ipynb', '.ipynb_checkpoints', 'my_func.py', '.git']\n"
     ]
    }
   ],
   "source": [
    "print(os.listdir())"
   ]
  },
  {
   "cell_type": "code",
   "execution_count": null,
   "id": "84fd4f07",
   "metadata": {},
   "outputs": [],
   "source": []
  }
 ],
 "metadata": {
  "kernelspec": {
   "display_name": "Python 3 (ipykernel)",
   "language": "python",
   "name": "python3"
  },
  "language_info": {
   "codemirror_mode": {
    "name": "ipython",
    "version": 3
   },
   "file_extension": ".py",
   "mimetype": "text/x-python",
   "name": "python",
   "nbconvert_exporter": "python",
   "pygments_lexer": "ipython3",
   "version": "3.9.13"
  }
 },
 "nbformat": 4,
 "nbformat_minor": 5
}
